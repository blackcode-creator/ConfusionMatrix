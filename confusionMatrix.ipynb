{
  "nbformat": 4,
  "nbformat_minor": 0,
  "metadata": {
    "colab": {
      "name": "confusionMatrix.ipynb",
      "provenance": [],
      "authorship_tag": "ABX9TyOuNbHO6yllUeMhhThxD/1g"
    },
    "kernelspec": {
      "name": "python3",
      "display_name": "Python 3"
    },
    "language_info": {
      "name": "python"
    }
  },
  "cells": [
    {
      "cell_type": "code",
      "execution_count": 2,
      "metadata": {
        "id": "uNnVsVICNNGn"
      },
      "outputs": [],
      "source": [
        "#Confusion matrix is used for describing the performance of a classifier.\n",
        "#it is usually obtained from the test dataset which is ground truth.\n",
        "\n",
        "# for example, in a biometric identification system, it is very important to avoid false positive\n",
        "#because the wrong people might get into sensitive information\n",
        "import numpy as np\n",
        "import matplotlib.pyplot as plt\n",
        "from sklearn.metrics import confusion_matrix\n",
        "from sklearn.metrics import classification_report"
      ]
    },
    {
      "cell_type": "code",
      "source": [
        "#Defining some samples labels for the ground truth and predict output\n",
        "true_labels = [2, 0, 0, 2, 4, 4, 1, 0, 3, 3, 3]\n",
        "test_labels = [2, 1, 0, 2, 4, 3, 1, 0, 1, 3, 3]"
      ],
      "metadata": {
        "id": "J1IcUq3gQaXR"
      },
      "execution_count": 3,
      "outputs": []
    },
    {
      "cell_type": "code",
      "source": [
        "#Creating confusion matrix\n",
        "confusion_mat = confusion_matrix(true_labels, test_labels)"
      ],
      "metadata": {
        "id": "DfKRuCqfShL6"
      },
      "execution_count": 4,
      "outputs": []
    },
    {
      "cell_type": "code",
      "source": [
        "#Visualization of confusion matrix\n",
        "plt.imshow(confusion_mat, interpolation='nearest', cmap=plt.cm.gray)\n",
        "plt.title('Confusion matrix')\n",
        "plt.colorbar()\n",
        "ticks = np.arange(5)\n",
        "plt.xticks(ticks, ticks)\n",
        "plt.yticks(ticks, ticks)\n",
        "plt.ylabel('True labels')\n",
        "plt.xlabel('Predicted labels')\n",
        "plt.show()"
      ],
      "metadata": {
        "colab": {
          "base_uri": "https://localhost:8080/",
          "height": 295
        },
        "id": "GFt_SwW9TJcG",
        "outputId": "c69203da-9c69-4393-dcc9-abed271a7222"
      },
      "execution_count": 5,
      "outputs": [
        {
          "output_type": "display_data",
          "data": {
            "text/plain": [
              "<Figure size 432x288 with 2 Axes>"
            ],
            "image/png": "[encoded data removed]"
          },
          "metadata": {
            "needs_background": "light"
          }
        }
      ]
    },
    {
      "cell_type": "code",
      "source": [
        "#Ticks refers to the number of distinct classes.\n",
        "\n",
        "#classification report\n",
        "targets = ['Class = 0','Class = -1','Class = -2','Class = -3','Class = -4']\n",
        "print('\\n',classification_report(true_labels, test_labels,target_names=targets))"
      ],
      "metadata": {
        "colab": {
          "base_uri": "https://localhost:8080/"
        },
        "id": "LSkQg2_gbfjA",
        "outputId": "52a67ac6-0ade-4bd1-84a1-3cdf10d5dfc6"
      },
      "execution_count": 7,
      "outputs": [
        {
          "output_type": "stream",
          "name": "stdout",
          "text": [
            "\n",
            "               precision    recall  f1-score   support\n",
            "\n",
            "   Class = 0       1.00      0.67      0.80         3\n",
            "  Class = -1       0.33      1.00      0.50         1\n",
            "  Class = -2       1.00      1.00      1.00         2\n",
            "  Class = -3       0.67      0.67      0.67         3\n",
            "  Class = -4       1.00      0.50      0.67         2\n",
            "\n",
            "    accuracy                           0.73        11\n",
            "   macro avg       0.80      0.77      0.73        11\n",
            "weighted avg       0.85      0.73      0.75        11\n",
            "\n"
          ]
        }
      ]
    }
  ]
}